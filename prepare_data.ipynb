{
 "metadata": {
  "language_info": {
   "codemirror_mode": {
    "name": "ipython",
    "version": 3
   },
   "file_extension": ".py",
   "mimetype": "text/x-python",
   "name": "python",
   "nbconvert_exporter": "python",
   "pygments_lexer": "ipython3",
   "version": "3.8.5"
  },
  "orig_nbformat": 4,
  "kernelspec": {
   "name": "python3",
   "display_name": "Python 3.8.5 64-bit ('base': conda)"
  },
  "interpreter": {
   "hash": "f50bd5474255f82aa829301912ce59e29110123be660cf8d7583f66a20371684"
  }
 },
 "nbformat": 4,
 "nbformat_minor": 2,
 "cells": [
  {
   "cell_type": "code",
   "execution_count": 1,
   "metadata": {},
   "outputs": [],
   "source": [
    "from dataset import read_mat, train_test_split"
   ]
  },
  {
   "source": [
    "## Transform the data from .mat(1d) to .npy(2d)"
   ],
   "cell_type": "markdown",
   "metadata": {}
  },
  {
   "cell_type": "code",
   "execution_count": 2,
   "metadata": {},
   "outputs": [
    {
     "output_type": "stream",
     "name": "stdout",
     "text": [
      "Read Ball...\n",
      "Read Normal...\n",
      "Read Inner_break...\n",
      "Read Outer_break...\n"
     ]
    }
   ],
   "source": [
    "read_mat(32, class_lst = ['Ball', 'Normal', 'Inner_break', 'Outer_break'], path = './data/Raw')"
   ]
  },
  {
   "source": [
    "## Train test split"
   ],
   "cell_type": "markdown",
   "metadata": {}
  },
  {
   "cell_type": "code",
   "execution_count": 3,
   "metadata": {
    "tags": []
   },
   "outputs": [],
   "source": [
    "path = './data/Image'\n",
    "class_lst = ['Ball', 'Normal', 'Inner_break', 'Outer_break']\n",
    "\n",
    "train_test_split(\n",
    "    test_size = 0.25, path = path, \n",
    "    class_lst = ['Ball', 'Normal', 'Inner_break', 'Outer_break']\n",
    ")\n"
   ]
  },
  {
   "cell_type": "code",
   "execution_count": null,
   "metadata": {},
   "outputs": [],
   "source": []
  }
 ]
}