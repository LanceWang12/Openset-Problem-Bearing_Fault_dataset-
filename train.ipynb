{
 "cells": [
  {
   "cell_type": "code",
   "execution_count": 1,
   "metadata": {},
   "outputs": [],
   "source": [
    "from project_header import BearingNet, bearing_dataset, read_mat\n",
    "from project_header.torch_tool.callbacks import ModelCheckpoint, EarlyStopping\n",
    "\n",
    "import numpy as np\n",
    "import matplotlib.pyplot as plt\n",
    "import os\n",
    "\n",
    "from torch import nn, optim\n",
    "from torch.utils.data import DataLoader\n"
   ]
  },
  {
   "cell_type": "markdown",
   "metadata": {},
   "source": [
    "## Set Dataloader"
   ]
  },
  {
   "cell_type": "code",
   "execution_count": 2,
   "metadata": {
    "tags": []
   },
   "outputs": [],
   "source": [
    "class_lst = ['Normal', 'Inner_break', 'Outer_break']\n",
    "train = True\n",
    "trainset = bearing_dataset(path = './data/Image/train', class_lst = class_lst, train = train)\n",
    "TrainLoader = DataLoader(trainset, batch_size = 128)"
   ]
  },
  {
   "cell_type": "code",
   "execution_count": 3,
   "metadata": {},
   "outputs": [
    {
     "output_type": "stream",
     "name": "stdout",
     "text": [
      "Anchor is Normal, and Negative is Outer_break\n"
     ]
    },
    {
     "output_type": "display_data",
     "data": {
      "text/plain": "<Figure size 648x216 with 3 Axes>",
      "image/svg+xml": "<?xml version=\"1.0\" encoding=\"utf-8\" standalone=\"no\"?>\n<!DOCTYPE svg PUBLIC \"-//W3C//DTD SVG 1.1//EN\"\n  \"http://www.w3.org/Graphics/SVG/1.1/DTD/svg11.dtd\">\n<!-- Created with matplotlib (https://matplotlib.org/) -->\n<svg height=\"162.105882pt\" version=\"1.1\" viewBox=\"0 0 516.6 162.105882\" width=\"516.6pt\" xmlns=\"http://www.w3.org/2000/svg\" xmlns:xlink=\"http://www.w3.org/1999/xlink\">\n <metadata>\n  <rdf:RDF xmlns:cc=\"http://creativecommons.org/ns#\" xmlns:dc=\"http://purl.org/dc/elements/1.1/\" xmlns:rdf=\"http://www.w3.org/1999/02/22-rdf-syntax-ns#\">\n   <cc:Work>\n    <dc:type rdf:resource=\"http://purl.org/dc/dcmitype/StillImage\"/>\n    <dc:date>2021-06-22T06:02:56.236328</dc:date>\n    <dc:format>image/svg+xml</dc:format>\n    <dc:creator>\n     <cc:Agent>\n      <dc:title>Matplotlib v3.3.2, https://matplotlib.org/</dc:title>\n     </cc:Agent>\n    </dc:creator>\n   </cc:Work>\n  </rdf:RDF>\n </metadata>\n <defs>\n  <style type=\"text/css\">*{stroke-linecap:butt;stroke-linejoin:round;}</style>\n </defs>\n <g id=\"figure_1\">\n  <g id=\"patch_1\">\n   <path d=\"M 0 162.105882 \nL 516.6 162.105882 \nL 516.6 0 \nL 0 0 \nz\n\" style=\"fill:none;\"/>\n  </g>\n  <g id=\"axes_1\">\n   <g clip-path=\"url(#p3f8854cdc0)\">\n    <image height=\"148\" id=\"imagee95f166c94\" transform=\"scale(1 -1)translate(0 -148)\" width=\"148\" x=\"7.2\" xlink:href=\"data:image/png;base64,\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\" y=\"-6.905882\"/>\n   </g>\n  </g>\n  <g id=\"axes_2\">\n   <g clip-path=\"url(#p17acc518d0)\">\n    <image height=\"148\" id=\"imagee89d15a467\" transform=\"scale(1 -1)translate(0 -148)\" width=\"148\" x=\"184.447059\" xlink:href=\"data:image/png;base64,\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\" y=\"-6.905882\"/>\n   </g>\n  </g>\n  <g id=\"axes_3\">\n   <g clip-path=\"url(#p46ae403fdd)\">\n    <image height=\"148\" id=\"image74ba4ebfe0\" transform=\"scale(1 -1)translate(0 -148)\" width=\"148\" x=\"361.694118\" xlink:href=\"data:image/png;base64,\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\" y=\"-6.905882\"/>\n   </g>\n  </g>\n </g>\n <defs>\n  <clipPath id=\"p3f8854cdc0\">\n   <rect height=\"147.705882\" width=\"147.705882\" x=\"7.2\" y=\"7.2\"/>\n  </clipPath>\n  <clipPath id=\"p17acc518d0\">\n   <rect height=\"147.705882\" width=\"147.705882\" x=\"184.447059\" y=\"7.2\"/>\n  </clipPath>\n  <clipPath id=\"p46ae403fdd\">\n   <rect height=\"147.705882\" width=\"147.705882\" x=\"361.694118\" y=\"7.2\"/>\n  </clipPath>\n </defs>\n</svg>\n",
      "image/png": "[encoded data removed]"
     },
     "metadata": {
      "needs_background": "light"
     }
    }
   ],
   "source": [
    "imgs = trainset[0]\n",
    "print(f'Anchor is {class_lst[imgs[3]]}, and Negative is {class_lst[imgs[4]]}')\n",
    "plt.figure(figsize = (9, 3))\n",
    "for i in range(3):\n",
    "    plt.subplot(1, 3, i + 1)\n",
    "    plt.imshow(imgs[i].reshape(32, 32), cmap = 'gray')\n",
    "    plt.axis('off')\n",
    "# print(anchor.shape, pos.shape, neg.shape)\n",
    "plt.show()"
   ]
  },
  {
   "cell_type": "markdown",
   "metadata": {},
   "source": [
    "## Training encoding model\n",
    "### 1. Define model"
   ]
  },
  {
   "cell_type": "code",
   "execution_count": 6,
   "metadata": {},
   "outputs": [
    {
     "output_type": "stream",
     "name": "stdout",
     "text": [
      "----------------------------------\n| The model use Cuda:0 to train. |\n---------------------------------- \n\n"
     ]
    }
   ],
   "source": [
    "encode_size = 40\n",
    "margin = 1.2\n",
    "model = BearingNet(encode_size = encode_size, margin = margin)\n",
    "\n",
    "if not os.path.isdir('./checkpoint'):\n",
    "    os.mkdir('./checkpoint')\n",
    "\n",
    "filepath = './checkpoint/model_{epoch}_{loss:.2f}.pth'\n",
    "\n",
    "ckpt1 = ModelCheckpoint(\n",
    "    filepath = filepath, monitor='loss', verbose=True,\n",
    "    save_best_only = True, mode='auto', period=2\n",
    ")\n",
    "\n",
    "callbacks = [ckpt1]"
   ]
  },
  {
   "source": [
    "### 2. Train model"
   ],
   "cell_type": "markdown",
   "metadata": {}
  },
  {
   "cell_type": "code",
   "execution_count": 7,
   "metadata": {},
   "outputs": [
    {
     "output_type": "stream",
     "name": "stdout",
     "text": [
      "Epoch 1/30 :\n",
      "[========================================] 100%\tloss: 1.0464\n",
      "\n",
      "Epoch 2/30 :\n",
      "[========================================] 100%\tloss: 0.8358\n",
      "\n",
      "Epoch 3/30 :\n",
      "[========================================] 100%\tloss: 0.6702\n",
      "\n",
      "Epoch 4/30 :\n",
      "[========================================] 100%\tloss: 0.5377\n",
      "\n",
      "Epoch 5/30 :\n",
      "[========================================] 100%\tloss: 0.5130\n",
      "\n",
      "Epoch 6/30 :\n",
      "[========================================] 100%\tloss: 0.4590\n",
      "\n",
      "Epoch 7/30 :\n",
      "[========================================] 100%\tloss: 0.4519\n",
      "\n",
      "Epoch 8/30 :\n",
      "[========================================] 100%\tloss: 0.4305\n",
      "\n",
      "Epoch 9/30 :\n",
      "[========================================] 100%\tloss: 0.4165\n",
      "\n",
      "Epoch 10/30 :\n",
      "[========================================] 100%\tloss: 0.4159\n",
      "\n",
      "Epoch 11/30 :\n",
      "[========================================] 100%\tloss: 0.3740\n",
      "\n",
      "Epoch 12/30 :\n",
      "[========================================] 100%\tloss: 0.3728\n",
      "\n",
      "Epoch 13/30 :\n",
      "[========================================] 100%\tloss: 0.3948\n",
      "\n",
      "Epoch 14/30 :\n",
      "[========================================] 100%\tloss: 0.3623\n",
      "\n",
      "Epoch 15/30 :\n",
      "[========================================] 100%\tloss: 0.3696\n",
      "\n",
      "Epoch 16/30 :\n",
      "[========================================] 100%\tloss: 0.3711\n",
      "\n",
      "Epoch 17/30 :\n",
      "[========================================] 100%\tloss: 0.4030\n",
      "\n",
      "Epoch 18/30 :\n",
      "[========================================] 100%\tloss: 0.3668\n",
      "\n",
      "Epoch 19/30 :\n",
      "[========================================] 100%\tloss: 0.3773\n",
      "\n",
      "Epoch 20/30 :\n",
      "[========================================] 100%\tloss: 0.3795\n",
      "\n",
      "Epoch 21/30 :\n",
      "[========================================] 100%\tloss: 0.3381\n",
      "\n",
      "Epoch 22/30 :\n",
      "[========================================] 100%\tloss: 0.3323\n",
      "\n",
      "Epoch 23/30 :\n",
      "[========================================] 100%\tloss: 0.3353\n",
      "\n",
      "Epoch 24/30 :\n",
      "[========================================] 100%\tloss: 0.3457\n",
      "\n",
      "Epoch 25/30 :\n",
      "[========================================] 100%\tloss: 0.3273\n",
      "\n",
      "Epoch 26/30 :\n",
      "[========================================] 100%\tloss: 0.3305\n",
      "\n",
      "Epoch 27/30 :\n",
      "[========================================] 100%\tloss: 0.3342\n",
      "\n",
      "Epoch 28/30 :\n",
      "[========================================] 100%\tloss: 0.3261\n",
      "\n",
      "Epoch 29/30 :\n",
      "[========================================] 100%\tloss: 0.3205\n",
      "\n",
      "Epoch 30/30 :\n",
      "[========================================] 100%\tloss: 0.3143\n",
      "\n",
      "Epoch 00030: loss = 0.3143, saving model to ./checkpoint/model_30_0.31.pth\n",
      "\n"
     ]
    }
   ],
   "source": [
    "history = model.fit_dataloader(TrainLoader, epochs = 30, callbacks = callbacks, verbose = True)"
   ]
  },
  {
   "cell_type": "code",
   "execution_count": 8,
   "metadata": {},
   "outputs": [
    {
     "output_type": "display_data",
     "data": {
      "text/plain": "<Figure size 560x420 with 1 Axes>",
      "image/svg+xml": "<?xml version=\"1.0\" encoding=\"utf-8\" standalone=\"no\"?>\n<!DOCTYPE svg PUBLIC \"-//W3C//DTD SVG 1.1//EN\"\n  \"http://www.w3.org/Graphics/SVG/1.1/DTD/svg11.dtd\">\n<!-- Created with matplotlib (https://matplotlib.org/) -->\n<svg height=\"370.91625pt\" version=\"1.1\" viewBox=\"0 0 497.446571 370.91625\" width=\"497.446571pt\" xmlns=\"http://www.w3.org/2000/svg\" xmlns:xlink=\"http://www.w3.org/1999/xlink\">\n <metadata>\n  <rdf:RDF xmlns:cc=\"http://creativecommons.org/ns#\" xmlns:dc=\"http://purl.org/dc/elements/1.1/\" xmlns:rdf=\"http://www.w3.org/1999/02/22-rdf-syntax-ns#\">\n   <cc:Work>\n    <dc:type rdf:resource=\"http://purl.org/dc/dcmitype/StillImage\"/>\n    <dc:date>2021-06-22T06:03:57.500958</dc:date>\n    <dc:format>image/svg+xml</dc:format>\n    <dc:creator>\n     <cc:Agent>\n      <dc:title>Matplotlib v3.3.2, https://matplotlib.org/</dc:title>\n     </cc:Agent>\n    </dc:creator>\n   </cc:Work>\n  </rdf:RDF>\n </metadata>\n <defs>\n  <style type=\"text/css\">*{stroke-linecap:butt;stroke-linejoin:round;}</style>\n </defs>\n <g id=\"figure_1\">\n  <g id=\"patch_1\">\n   <path d=\"M 0 370.91625 \nL 497.446571 370.91625 \nL 497.446571 0 \nL 0 0 \nz\n\" style=\"fill:none;\"/>\n  </g>\n  <g id=\"axes_1\">\n   <g id=\"patch_2\">\n    <path d=\"M 43.78125 333.36 \nL 490.18125 333.36 \nL 490.18125 7.2 \nL 43.78125 7.2 \nz\n\" style=\"fill:#ffffff;\"/>\n   </g>\n   <g id=\"matplotlib.axis_1\">\n    <g id=\"xtick_1\">\n     <g id=\"line2d_1\">\n      <defs>\n       <path d=\"M 0 0 \nL 0 3.5 \n\" id=\"me5fc7374ef\" style=\"stroke:#000000;stroke-width:0.8;\"/>\n      </defs>\n      <g>\n       <use style=\"stroke:#000000;stroke-width:0.8;\" x=\"64.072159\" xlink:href=\"#me5fc7374ef\" y=\"333.36\"/>\n      </g>\n     </g>\n     <g id=\"text_1\">\n      <!-- 0 -->\n      <g transform=\"translate(60.890909 347.958438)scale(0.1 -0.1)\">\n       <defs>\n        <path d=\"M 31.78125 66.40625 \nQ 24.171875 66.40625 20.328125 58.90625 \nQ 16.5 51.421875 16.5 36.375 \nQ 16.5 21.390625 20.328125 13.890625 \nQ 24.171875 6.390625 31.78125 6.390625 \nQ 39.453125 6.390625 43.28125 13.890625 \nQ 47.125 21.390625 47.125 36.375 \nQ 47.125 51.421875 43.28125 58.90625 \nQ 39.453125 66.40625 31.78125 66.40625 \nz\nM 31.78125 74.21875 \nQ 44.046875 74.21875 50.515625 64.515625 \nQ 56.984375 54.828125 56.984375 36.375 \nQ 56.984375 17.96875 50.515625 8.265625 \nQ 44.046875 -1.421875 31.78125 -1.421875 \nQ 19.53125 -1.421875 13.0625 8.265625 \nQ 6.59375 17.96875 6.59375 36.375 \nQ 6.59375 54.828125 13.0625 64.515625 \nQ 19.53125 74.21875 31.78125 74.21875 \nz\n\" id=\"DejaVuSans-48\"/>\n       </defs>\n       <use xlink:href=\"#DejaVuSans-48\"/>\n      </g>\n     </g>\n    </g>\n    <g id=\"xtick_2\">\n     <g id=\"line2d_2\">\n      <g>\n       <use style=\"stroke:#000000;stroke-width:0.8;\" x=\"134.040811\" xlink:href=\"#me5fc7374ef\" y=\"333.36\"/>\n      </g>\n     </g>\n     <g id=\"text_2\">\n      <!-- 5 -->\n      <g transform=\"translate(130.859561 347.958438)scale(0.1 -0.1)\">\n       <defs>\n        <path d=\"M 10.796875 72.90625 \nL 49.515625 72.90625 \nL 49.515625 64.59375 \nL 19.828125 64.59375 \nL 19.828125 46.734375 \nQ 21.96875 47.46875 24.109375 47.828125 \nQ 26.265625 48.1875 28.421875 48.1875 \nQ 40.625 48.1875 47.75 41.5 \nQ 54.890625 34.8125 54.890625 23.390625 \nQ 54.890625 11.625 47.5625 5.09375 \nQ 40.234375 -1.421875 26.90625 -1.421875 \nQ 22.3125 -1.421875 17.546875 -0.640625 \nQ 12.796875 0.140625 7.71875 1.703125 \nL 7.71875 11.625 \nQ 12.109375 9.234375 16.796875 8.0625 \nQ 21.484375 6.890625 26.703125 6.890625 \nQ 35.15625 6.890625 40.078125 11.328125 \nQ 45.015625 15.765625 45.015625 23.390625 \nQ 45.015625 31 40.078125 35.4375 \nQ 35.15625 39.890625 26.703125 39.890625 \nQ 22.75 39.890625 18.8125 39.015625 \nQ 14.890625 38.140625 10.796875 36.28125 \nz\n\" id=\"DejaVuSans-53\"/>\n       </defs>\n       <use xlink:href=\"#DejaVuSans-53\"/>\n      </g>\n     </g>\n    </g>\n    <g id=\"xtick_3\">\n     <g id=\"line2d_3\">\n      <g>\n       <use style=\"stroke:#000000;stroke-width:0.8;\" x=\"204.009463\" xlink:href=\"#me5fc7374ef\" y=\"333.36\"/>\n      </g>\n     </g>\n     <g id=\"text_3\">\n      <!-- 10 -->\n      <g transform=\"translate(197.646963 347.958438)scale(0.1 -0.1)\">\n       <defs>\n        <path d=\"M 12.40625 8.296875 \nL 28.515625 8.296875 \nL 28.515625 63.921875 \nL 10.984375 60.40625 \nL 10.984375 69.390625 \nL 28.421875 72.90625 \nL 38.28125 72.90625 \nL 38.28125 8.296875 \nL 54.390625 8.296875 \nL 54.390625 0 \nL 12.40625 0 \nz\n\" id=\"DejaVuSans-49\"/>\n       </defs>\n       <use xlink:href=\"#DejaVuSans-49\"/>\n       <use x=\"63.623047\" xlink:href=\"#DejaVuSans-48\"/>\n      </g>\n     </g>\n    </g>\n    <g id=\"xtick_4\">\n     <g id=\"line2d_4\">\n      <g>\n       <use style=\"stroke:#000000;stroke-width:0.8;\" x=\"273.978115\" xlink:href=\"#me5fc7374ef\" y=\"333.36\"/>\n      </g>\n     </g>\n     <g id=\"text_4\">\n      <!-- 15 -->\n      <g transform=\"translate(267.615615 347.958438)scale(0.1 -0.1)\">\n       <use xlink:href=\"#DejaVuSans-49\"/>\n       <use x=\"63.623047\" xlink:href=\"#DejaVuSans-53\"/>\n      </g>\n     </g>\n    </g>\n    <g id=\"xtick_5\">\n     <g id=\"line2d_5\">\n      <g>\n       <use style=\"stroke:#000000;stroke-width:0.8;\" x=\"343.946767\" xlink:href=\"#me5fc7374ef\" y=\"333.36\"/>\n      </g>\n     </g>\n     <g id=\"text_5\">\n      <!-- 20 -->\n      <g transform=\"translate(337.584267 347.958438)scale(0.1 -0.1)\">\n       <defs>\n        <path d=\"M 19.1875 8.296875 \nL 53.609375 8.296875 \nL 53.609375 0 \nL 7.328125 0 \nL 7.328125 8.296875 \nQ 12.9375 14.109375 22.625 23.890625 \nQ 32.328125 33.6875 34.8125 36.53125 \nQ 39.546875 41.84375 41.421875 45.53125 \nQ 43.3125 49.21875 43.3125 52.78125 \nQ 43.3125 58.59375 39.234375 62.25 \nQ 35.15625 65.921875 28.609375 65.921875 \nQ 23.96875 65.921875 18.8125 64.3125 \nQ 13.671875 62.703125 7.8125 59.421875 \nL 7.8125 69.390625 \nQ 13.765625 71.78125 18.9375 73 \nQ 24.125 74.21875 28.421875 74.21875 \nQ 39.75 74.21875 46.484375 68.546875 \nQ 53.21875 62.890625 53.21875 53.421875 \nQ 53.21875 48.921875 51.53125 44.890625 \nQ 49.859375 40.875 45.40625 35.40625 \nQ 44.1875 33.984375 37.640625 27.21875 \nQ 31.109375 20.453125 19.1875 8.296875 \nz\n\" id=\"DejaVuSans-50\"/>\n       </defs>\n       <use xlink:href=\"#DejaVuSans-50\"/>\n       <use x=\"63.623047\" xlink:href=\"#DejaVuSans-48\"/>\n      </g>\n     </g>\n    </g>\n    <g id=\"xtick_6\">\n     <g id=\"line2d_6\">\n      <g>\n       <use style=\"stroke:#000000;stroke-width:0.8;\" x=\"413.915419\" xlink:href=\"#me5fc7374ef\" y=\"333.36\"/>\n      </g>\n     </g>\n     <g id=\"text_6\">\n      <!-- 25 -->\n      <g transform=\"translate(407.552919 347.958438)scale(0.1 -0.1)\">\n       <use xlink:href=\"#DejaVuSans-50\"/>\n       <use x=\"63.623047\" xlink:href=\"#DejaVuSans-53\"/>\n      </g>\n     </g>\n    </g>\n    <g id=\"xtick_7\">\n     <g id=\"line2d_7\">\n      <g>\n       <use style=\"stroke:#000000;stroke-width:0.8;\" x=\"483.884071\" xlink:href=\"#me5fc7374ef\" y=\"333.36\"/>\n      </g>\n     </g>\n     <g id=\"text_7\">\n      <!-- 30 -->\n      <g transform=\"translate(477.521571 347.958438)scale(0.1 -0.1)\">\n       <defs>\n        <path d=\"M 40.578125 39.3125 \nQ 47.65625 37.796875 51.625 33 \nQ 55.609375 28.21875 55.609375 21.1875 \nQ 55.609375 10.40625 48.1875 4.484375 \nQ 40.765625 -1.421875 27.09375 -1.421875 \nQ 22.515625 -1.421875 17.65625 -0.515625 \nQ 12.796875 0.390625 7.625 2.203125 \nL 7.625 11.71875 \nQ 11.71875 9.328125 16.59375 8.109375 \nQ 21.484375 6.890625 26.8125 6.890625 \nQ 36.078125 6.890625 40.9375 10.546875 \nQ 45.796875 14.203125 45.796875 21.1875 \nQ 45.796875 27.640625 41.28125 31.265625 \nQ 36.765625 34.90625 28.71875 34.90625 \nL 20.21875 34.90625 \nL 20.21875 43.015625 \nL 29.109375 43.015625 \nQ 36.375 43.015625 40.234375 45.921875 \nQ 44.09375 48.828125 44.09375 54.296875 \nQ 44.09375 59.90625 40.109375 62.90625 \nQ 36.140625 65.921875 28.71875 65.921875 \nQ 24.65625 65.921875 20.015625 65.03125 \nQ 15.375 64.15625 9.8125 62.3125 \nL 9.8125 71.09375 \nQ 15.4375 72.65625 20.34375 73.4375 \nQ 25.25 74.21875 29.59375 74.21875 \nQ 40.828125 74.21875 47.359375 69.109375 \nQ 53.90625 64.015625 53.90625 55.328125 \nQ 53.90625 49.265625 50.4375 45.09375 \nQ 46.96875 40.921875 40.578125 39.3125 \nz\n\" id=\"DejaVuSans-51\"/>\n       </defs>\n       <use xlink:href=\"#DejaVuSans-51\"/>\n       <use x=\"63.623047\" xlink:href=\"#DejaVuSans-48\"/>\n      </g>\n     </g>\n    </g>\n    <g id=\"text_8\">\n     <!-- epoch -->\n     <g transform=\"translate(251.753125 361.636562)scale(0.1 -0.1)\">\n      <defs>\n       <path d=\"M 56.203125 29.59375 \nL 56.203125 25.203125 \nL 14.890625 25.203125 \nQ 15.484375 15.921875 20.484375 11.0625 \nQ 25.484375 6.203125 34.421875 6.203125 \nQ 39.59375 6.203125 44.453125 7.46875 \nQ 49.3125 8.734375 54.109375 11.28125 \nL 54.109375 2.78125 \nQ 49.265625 0.734375 44.1875 -0.34375 \nQ 39.109375 -1.421875 33.890625 -1.421875 \nQ 20.796875 -1.421875 13.15625 6.1875 \nQ 5.515625 13.8125 5.515625 26.8125 \nQ 5.515625 40.234375 12.765625 48.109375 \nQ 20.015625 56 32.328125 56 \nQ 43.359375 56 49.78125 48.890625 \nQ 56.203125 41.796875 56.203125 29.59375 \nz\nM 47.21875 32.234375 \nQ 47.125 39.59375 43.09375 43.984375 \nQ 39.0625 48.390625 32.421875 48.390625 \nQ 24.90625 48.390625 20.390625 44.140625 \nQ 15.875 39.890625 15.1875 32.171875 \nz\n\" id=\"DejaVuSans-101\"/>\n       <path d=\"M 18.109375 8.203125 \nL 18.109375 -20.796875 \nL 9.078125 -20.796875 \nL 9.078125 54.6875 \nL 18.109375 54.6875 \nL 18.109375 46.390625 \nQ 20.953125 51.265625 25.265625 53.625 \nQ 29.59375 56 35.59375 56 \nQ 45.5625 56 51.78125 48.09375 \nQ 58.015625 40.1875 58.015625 27.296875 \nQ 58.015625 14.40625 51.78125 6.484375 \nQ 45.5625 -1.421875 35.59375 -1.421875 \nQ 29.59375 -1.421875 25.265625 0.953125 \nQ 20.953125 3.328125 18.109375 8.203125 \nz\nM 48.6875 27.296875 \nQ 48.6875 37.203125 44.609375 42.84375 \nQ 40.53125 48.484375 33.40625 48.484375 \nQ 26.265625 48.484375 22.1875 42.84375 \nQ 18.109375 37.203125 18.109375 27.296875 \nQ 18.109375 17.390625 22.1875 11.75 \nQ 26.265625 6.109375 33.40625 6.109375 \nQ 40.53125 6.109375 44.609375 11.75 \nQ 48.6875 17.390625 48.6875 27.296875 \nz\n\" id=\"DejaVuSans-112\"/>\n       <path d=\"M 30.609375 48.390625 \nQ 23.390625 48.390625 19.1875 42.75 \nQ 14.984375 37.109375 14.984375 27.296875 \nQ 14.984375 17.484375 19.15625 11.84375 \nQ 23.34375 6.203125 30.609375 6.203125 \nQ 37.796875 6.203125 41.984375 11.859375 \nQ 46.1875 17.53125 46.1875 27.296875 \nQ 46.1875 37.015625 41.984375 42.703125 \nQ 37.796875 48.390625 30.609375 48.390625 \nz\nM 30.609375 56 \nQ 42.328125 56 49.015625 48.375 \nQ 55.71875 40.765625 55.71875 27.296875 \nQ 55.71875 13.875 49.015625 6.21875 \nQ 42.328125 -1.421875 30.609375 -1.421875 \nQ 18.84375 -1.421875 12.171875 6.21875 \nQ 5.515625 13.875 5.515625 27.296875 \nQ 5.515625 40.765625 12.171875 48.375 \nQ 18.84375 56 30.609375 56 \nz\n\" id=\"DejaVuSans-111\"/>\n       <path d=\"M 48.78125 52.59375 \nL 48.78125 44.1875 \nQ 44.96875 46.296875 41.140625 47.34375 \nQ 37.3125 48.390625 33.40625 48.390625 \nQ 24.65625 48.390625 19.8125 42.84375 \nQ 14.984375 37.3125 14.984375 27.296875 \nQ 14.984375 17.28125 19.8125 11.734375 \nQ 24.65625 6.203125 33.40625 6.203125 \nQ 37.3125 6.203125 41.140625 7.25 \nQ 44.96875 8.296875 48.78125 10.40625 \nL 48.78125 2.09375 \nQ 45.015625 0.34375 40.984375 -0.53125 \nQ 36.96875 -1.421875 32.421875 -1.421875 \nQ 20.0625 -1.421875 12.78125 6.34375 \nQ 5.515625 14.109375 5.515625 27.296875 \nQ 5.515625 40.671875 12.859375 48.328125 \nQ 20.21875 56 33.015625 56 \nQ 37.15625 56 41.109375 55.140625 \nQ 45.0625 54.296875 48.78125 52.59375 \nz\n\" id=\"DejaVuSans-99\"/>\n       <path d=\"M 54.890625 33.015625 \nL 54.890625 0 \nL 45.90625 0 \nL 45.90625 32.71875 \nQ 45.90625 40.484375 42.875 44.328125 \nQ 39.84375 48.1875 33.796875 48.1875 \nQ 26.515625 48.1875 22.3125 43.546875 \nQ 18.109375 38.921875 18.109375 30.90625 \nL 18.109375 0 \nL 9.078125 0 \nL 9.078125 75.984375 \nL 18.109375 75.984375 \nL 18.109375 46.1875 \nQ 21.34375 51.125 25.703125 53.5625 \nQ 30.078125 56 35.796875 56 \nQ 45.21875 56 50.046875 50.171875 \nQ 54.890625 44.34375 54.890625 33.015625 \nz\n\" id=\"DejaVuSans-104\"/>\n      </defs>\n      <use xlink:href=\"#DejaVuSans-101\"/>\n      <use x=\"61.523438\" xlink:href=\"#DejaVuSans-112\"/>\n      <use x=\"125\" xlink:href=\"#DejaVuSans-111\"/>\n      <use x=\"186.181641\" xlink:href=\"#DejaVuSans-99\"/>\n      <use x=\"241.162109\" xlink:href=\"#DejaVuSans-104\"/>\n     </g>\n    </g>\n   </g>\n   <g id=\"matplotlib.axis_2\">\n    <g id=\"ytick_1\">\n     <g id=\"line2d_8\">\n      <defs>\n       <path d=\"M 0 0 \nL -3.5 0 \n\" id=\"mf3ced1c8ad\" style=\"stroke:#000000;stroke-width:0.8;\"/>\n      </defs>\n      <g>\n       <use style=\"stroke:#000000;stroke-width:0.8;\" x=\"43.78125\" xlink:href=\"#mf3ced1c8ad\" y=\"324.3118\"/>\n      </g>\n     </g>\n     <g id=\"text_9\">\n      <!-- 0.3 -->\n      <g transform=\"translate(20.878125 328.111019)scale(0.1 -0.1)\">\n       <defs>\n        <path d=\"M 10.6875 12.40625 \nL 21 12.40625 \nL 21 0 \nL 10.6875 0 \nz\n\" id=\"DejaVuSans-46\"/>\n       </defs>\n       <use xlink:href=\"#DejaVuSans-48\"/>\n       <use x=\"63.623047\" xlink:href=\"#DejaVuSans-46\"/>\n       <use x=\"95.410156\" xlink:href=\"#DejaVuSans-51\"/>\n      </g>\n     </g>\n    </g>\n    <g id=\"ytick_2\">\n     <g id=\"line2d_9\">\n      <g>\n       <use style=\"stroke:#000000;stroke-width:0.8;\" x=\"43.78125\" xlink:href=\"#mf3ced1c8ad\" y=\"283.812602\"/>\n      </g>\n     </g>\n     <g id=\"text_10\">\n      <!-- 0.4 -->\n      <g transform=\"translate(20.878125 287.611821)scale(0.1 -0.1)\">\n       <defs>\n        <path d=\"M 37.796875 64.3125 \nL 12.890625 25.390625 \nL 37.796875 25.390625 \nz\nM 35.203125 72.90625 \nL 47.609375 72.90625 \nL 47.609375 25.390625 \nL 58.015625 25.390625 \nL 58.015625 17.1875 \nL 47.609375 17.1875 \nL 47.609375 0 \nL 37.796875 0 \nL 37.796875 17.1875 \nL 4.890625 17.1875 \nL 4.890625 26.703125 \nz\n\" id=\"DejaVuSans-52\"/>\n       </defs>\n       <use xlink:href=\"#DejaVuSans-48\"/>\n       <use x=\"63.623047\" xlink:href=\"#DejaVuSans-46\"/>\n       <use x=\"95.410156\" xlink:href=\"#DejaVuSans-52\"/>\n      </g>\n     </g>\n    </g>\n    <g id=\"ytick_3\">\n     <g id=\"line2d_10\">\n      <g>\n       <use style=\"stroke:#000000;stroke-width:0.8;\" x=\"43.78125\" xlink:href=\"#mf3ced1c8ad\" y=\"243.313405\"/>\n      </g>\n     </g>\n     <g id=\"text_11\">\n      <!-- 0.5 -->\n      <g transform=\"translate(20.878125 247.112623)scale(0.1 -0.1)\">\n       <use xlink:href=\"#DejaVuSans-48\"/>\n       <use x=\"63.623047\" xlink:href=\"#DejaVuSans-46\"/>\n       <use x=\"95.410156\" xlink:href=\"#DejaVuSans-53\"/>\n      </g>\n     </g>\n    </g>\n    <g id=\"ytick_4\">\n     <g id=\"line2d_11\">\n      <g>\n       <use style=\"stroke:#000000;stroke-width:0.8;\" x=\"43.78125\" xlink:href=\"#mf3ced1c8ad\" y=\"202.814207\"/>\n      </g>\n     </g>\n     <g id=\"text_12\">\n      <!-- 0.6 -->\n      <g transform=\"translate(20.878125 206.613426)scale(0.1 -0.1)\">\n       <defs>\n        <path d=\"M 33.015625 40.375 \nQ 26.375 40.375 22.484375 35.828125 \nQ 18.609375 31.296875 18.609375 23.390625 \nQ 18.609375 15.53125 22.484375 10.953125 \nQ 26.375 6.390625 33.015625 6.390625 \nQ 39.65625 6.390625 43.53125 10.953125 \nQ 47.40625 15.53125 47.40625 23.390625 \nQ 47.40625 31.296875 43.53125 35.828125 \nQ 39.65625 40.375 33.015625 40.375 \nz\nM 52.59375 71.296875 \nL 52.59375 62.3125 \nQ 48.875 64.0625 45.09375 64.984375 \nQ 41.3125 65.921875 37.59375 65.921875 \nQ 27.828125 65.921875 22.671875 59.328125 \nQ 17.53125 52.734375 16.796875 39.40625 \nQ 19.671875 43.65625 24.015625 45.921875 \nQ 28.375 48.1875 33.59375 48.1875 \nQ 44.578125 48.1875 50.953125 41.515625 \nQ 57.328125 34.859375 57.328125 23.390625 \nQ 57.328125 12.15625 50.6875 5.359375 \nQ 44.046875 -1.421875 33.015625 -1.421875 \nQ 20.359375 -1.421875 13.671875 8.265625 \nQ 6.984375 17.96875 6.984375 36.375 \nQ 6.984375 53.65625 15.1875 63.9375 \nQ 23.390625 74.21875 37.203125 74.21875 \nQ 40.921875 74.21875 44.703125 73.484375 \nQ 48.484375 72.75 52.59375 71.296875 \nz\n\" id=\"DejaVuSans-54\"/>\n       </defs>\n       <use xlink:href=\"#DejaVuSans-48\"/>\n       <use x=\"63.623047\" xlink:href=\"#DejaVuSans-46\"/>\n       <use x=\"95.410156\" xlink:href=\"#DejaVuSans-54\"/>\n      </g>\n     </g>\n    </g>\n    <g id=\"ytick_5\">\n     <g id=\"line2d_12\">\n      <g>\n       <use style=\"stroke:#000000;stroke-width:0.8;\" x=\"43.78125\" xlink:href=\"#mf3ced1c8ad\" y=\"162.315009\"/>\n      </g>\n     </g>\n     <g id=\"text_13\">\n      <!-- 0.7 -->\n      <g transform=\"translate(20.878125 166.114228)scale(0.1 -0.1)\">\n       <defs>\n        <path d=\"M 8.203125 72.90625 \nL 55.078125 72.90625 \nL 55.078125 68.703125 \nL 28.609375 0 \nL 18.3125 0 \nL 43.21875 64.59375 \nL 8.203125 64.59375 \nz\n\" id=\"DejaVuSans-55\"/>\n       </defs>\n       <use xlink:href=\"#DejaVuSans-48\"/>\n       <use x=\"63.623047\" xlink:href=\"#DejaVuSans-46\"/>\n       <use x=\"95.410156\" xlink:href=\"#DejaVuSans-55\"/>\n      </g>\n     </g>\n    </g>\n    <g id=\"ytick_6\">\n     <g id=\"line2d_13\">\n      <g>\n       <use style=\"stroke:#000000;stroke-width:0.8;\" x=\"43.78125\" xlink:href=\"#mf3ced1c8ad\" y=\"121.815812\"/>\n      </g>\n     </g>\n     <g id=\"text_14\">\n      <!-- 0.8 -->\n      <g transform=\"translate(20.878125 125.615031)scale(0.1 -0.1)\">\n       <defs>\n        <path d=\"M 31.78125 34.625 \nQ 24.75 34.625 20.71875 30.859375 \nQ 16.703125 27.09375 16.703125 20.515625 \nQ 16.703125 13.921875 20.71875 10.15625 \nQ 24.75 6.390625 31.78125 6.390625 \nQ 38.8125 6.390625 42.859375 10.171875 \nQ 46.921875 13.96875 46.921875 20.515625 \nQ 46.921875 27.09375 42.890625 30.859375 \nQ 38.875 34.625 31.78125 34.625 \nz\nM 21.921875 38.8125 \nQ 15.578125 40.375 12.03125 44.71875 \nQ 8.5 49.078125 8.5 55.328125 \nQ 8.5 64.0625 14.71875 69.140625 \nQ 20.953125 74.21875 31.78125 74.21875 \nQ 42.671875 74.21875 48.875 69.140625 \nQ 55.078125 64.0625 55.078125 55.328125 \nQ 55.078125 49.078125 51.53125 44.71875 \nQ 48 40.375 41.703125 38.8125 \nQ 48.828125 37.15625 52.796875 32.3125 \nQ 56.78125 27.484375 56.78125 20.515625 \nQ 56.78125 9.90625 50.3125 4.234375 \nQ 43.84375 -1.421875 31.78125 -1.421875 \nQ 19.734375 -1.421875 13.25 4.234375 \nQ 6.78125 9.90625 6.78125 20.515625 \nQ 6.78125 27.484375 10.78125 32.3125 \nQ 14.796875 37.15625 21.921875 38.8125 \nz\nM 18.3125 54.390625 \nQ 18.3125 48.734375 21.84375 45.5625 \nQ 25.390625 42.390625 31.78125 42.390625 \nQ 38.140625 42.390625 41.71875 45.5625 \nQ 45.3125 48.734375 45.3125 54.390625 \nQ 45.3125 60.0625 41.71875 63.234375 \nQ 38.140625 66.40625 31.78125 66.40625 \nQ 25.390625 66.40625 21.84375 63.234375 \nQ 18.3125 60.0625 18.3125 54.390625 \nz\n\" id=\"DejaVuSans-56\"/>\n       </defs>\n       <use xlink:href=\"#DejaVuSans-48\"/>\n       <use x=\"63.623047\" xlink:href=\"#DejaVuSans-46\"/>\n       <use x=\"95.410156\" xlink:href=\"#DejaVuSans-56\"/>\n      </g>\n     </g>\n    </g>\n    <g id=\"ytick_7\">\n     <g id=\"line2d_14\">\n      <g>\n       <use style=\"stroke:#000000;stroke-width:0.8;\" x=\"43.78125\" xlink:href=\"#mf3ced1c8ad\" y=\"81.316614\"/>\n      </g>\n     </g>\n     <g id=\"text_15\">\n      <!-- 0.9 -->\n      <g transform=\"translate(20.878125 85.115833)scale(0.1 -0.1)\">\n       <defs>\n        <path d=\"M 10.984375 1.515625 \nL 10.984375 10.5 \nQ 14.703125 8.734375 18.5 7.8125 \nQ 22.3125 6.890625 25.984375 6.890625 \nQ 35.75 6.890625 40.890625 13.453125 \nQ 46.046875 20.015625 46.78125 33.40625 \nQ 43.953125 29.203125 39.59375 26.953125 \nQ 35.25 24.703125 29.984375 24.703125 \nQ 19.046875 24.703125 12.671875 31.3125 \nQ 6.296875 37.9375 6.296875 49.421875 \nQ 6.296875 60.640625 12.9375 67.421875 \nQ 19.578125 74.21875 30.609375 74.21875 \nQ 43.265625 74.21875 49.921875 64.515625 \nQ 56.59375 54.828125 56.59375 36.375 \nQ 56.59375 19.140625 48.40625 8.859375 \nQ 40.234375 -1.421875 26.421875 -1.421875 \nQ 22.703125 -1.421875 18.890625 -0.6875 \nQ 15.09375 0.046875 10.984375 1.515625 \nz\nM 30.609375 32.421875 \nQ 37.25 32.421875 41.125 36.953125 \nQ 45.015625 41.5 45.015625 49.421875 \nQ 45.015625 57.28125 41.125 61.84375 \nQ 37.25 66.40625 30.609375 66.40625 \nQ 23.96875 66.40625 20.09375 61.84375 \nQ 16.21875 57.28125 16.21875 49.421875 \nQ 16.21875 41.5 20.09375 36.953125 \nQ 23.96875 32.421875 30.609375 32.421875 \nz\n\" id=\"DejaVuSans-57\"/>\n       </defs>\n       <use xlink:href=\"#DejaVuSans-48\"/>\n       <use x=\"63.623047\" xlink:href=\"#DejaVuSans-46\"/>\n       <use x=\"95.410156\" xlink:href=\"#DejaVuSans-57\"/>\n      </g>\n     </g>\n    </g>\n    <g id=\"ytick_8\">\n     <g id=\"line2d_15\">\n      <g>\n       <use style=\"stroke:#000000;stroke-width:0.8;\" x=\"43.78125\" xlink:href=\"#mf3ced1c8ad\" y=\"40.817416\"/>\n      </g>\n     </g>\n     <g id=\"text_16\">\n      <!-- 1.0 -->\n      <g transform=\"translate(20.878125 44.616635)scale(0.1 -0.1)\">\n       <use xlink:href=\"#DejaVuSans-49\"/>\n       <use x=\"63.623047\" xlink:href=\"#DejaVuSans-46\"/>\n       <use x=\"95.410156\" xlink:href=\"#DejaVuSans-48\"/>\n      </g>\n     </g>\n    </g>\n    <g id=\"text_17\">\n     <!-- loss -->\n     <g transform=\"translate(14.798438 179.937812)rotate(-90)scale(0.1 -0.1)\">\n      <defs>\n       <path d=\"M 9.421875 75.984375 \nL 18.40625 75.984375 \nL 18.40625 0 \nL 9.421875 0 \nz\n\" id=\"DejaVuSans-108\"/>\n       <path d=\"M 44.28125 53.078125 \nL 44.28125 44.578125 \nQ 40.484375 46.53125 36.375 47.5 \nQ 32.28125 48.484375 27.875 48.484375 \nQ 21.1875 48.484375 17.84375 46.4375 \nQ 14.5 44.390625 14.5 40.28125 \nQ 14.5 37.15625 16.890625 35.375 \nQ 19.28125 33.59375 26.515625 31.984375 \nL 29.59375 31.296875 \nQ 39.15625 29.25 43.1875 25.515625 \nQ 47.21875 21.78125 47.21875 15.09375 \nQ 47.21875 7.46875 41.1875 3.015625 \nQ 35.15625 -1.421875 24.609375 -1.421875 \nQ 20.21875 -1.421875 15.453125 -0.5625 \nQ 10.6875 0.296875 5.421875 2 \nL 5.421875 11.28125 \nQ 10.40625 8.6875 15.234375 7.390625 \nQ 20.0625 6.109375 24.8125 6.109375 \nQ 31.15625 6.109375 34.5625 8.28125 \nQ 37.984375 10.453125 37.984375 14.40625 \nQ 37.984375 18.0625 35.515625 20.015625 \nQ 33.0625 21.96875 24.703125 23.78125 \nL 21.578125 24.515625 \nQ 13.234375 26.265625 9.515625 29.90625 \nQ 5.8125 33.546875 5.8125 39.890625 \nQ 5.8125 47.609375 11.28125 51.796875 \nQ 16.75 56 26.8125 56 \nQ 31.78125 56 36.171875 55.265625 \nQ 40.578125 54.546875 44.28125 53.078125 \nz\n\" id=\"DejaVuSans-115\"/>\n      </defs>\n      <use xlink:href=\"#DejaVuSans-108\"/>\n      <use x=\"27.783203\" xlink:href=\"#DejaVuSans-111\"/>\n      <use x=\"88.964844\" xlink:href=\"#DejaVuSans-115\"/>\n      <use x=\"141.064453\" xlink:href=\"#DejaVuSans-115\"/>\n     </g>\n    </g>\n   </g>\n   <g id=\"line2d_16\">\n    <path clip-path=\"url(#p269fc0e41f)\" d=\"M 64.072159 22.025455 \nL 78.065889 107.309552 \nL 92.05962 174.395991 \nL 106.05335 228.037223 \nL 120.047081 238.036352 \nL 134.040811 259.929688 \nL 148.034542 262.79355 \nL 162.028272 271.448748 \nL 176.022002 277.125049 \nL 190.015733 277.36477 \nL 204.009463 294.324124 \nL 218.003194 294.812863 \nL 231.996924 285.904228 \nL 245.990654 299.071701 \nL 259.984385 296.12745 \nL 273.978115 295.503096 \nL 287.971846 282.589058 \nL 301.965576 297.240636 \nL 315.959306 293.010859 \nL 329.953037 292.125699 \nL 343.946767 308.8735 \nL 357.940498 311.219437 \nL 371.934228 310.006816 \nL 385.927958 305.814158 \nL 399.921689 313.268973 \nL 413.915419 311.961289 \nL 427.90915 310.444644 \nL 441.90288 313.761101 \nL 455.896611 316.02501 \nL 469.890341 318.534545 \n\" style=\"fill:none;stroke:#1f77b4;stroke-linecap:square;stroke-width:1.5;\"/>\n   </g>\n   <g id=\"patch_3\">\n    <path d=\"M 43.78125 333.36 \nL 43.78125 7.2 \n\" style=\"fill:none;stroke:#000000;stroke-linecap:square;stroke-linejoin:miter;stroke-width:0.8;\"/>\n   </g>\n   <g id=\"patch_4\">\n    <path d=\"M 490.18125 333.36 \nL 490.18125 7.2 \n\" style=\"fill:none;stroke:#000000;stroke-linecap:square;stroke-linejoin:miter;stroke-width:0.8;\"/>\n   </g>\n   <g id=\"patch_5\">\n    <path d=\"M 43.78125 333.36 \nL 490.18125 333.36 \n\" style=\"fill:none;stroke:#000000;stroke-linecap:square;stroke-linejoin:miter;stroke-width:0.8;\"/>\n   </g>\n   <g id=\"patch_6\">\n    <path d=\"M 43.78125 7.2 \nL 490.18125 7.2 \n\" style=\"fill:none;stroke:#000000;stroke-linecap:square;stroke-linejoin:miter;stroke-width:0.8;\"/>\n   </g>\n  </g>\n </g>\n <defs>\n  <clipPath id=\"p269fc0e41f\">\n   <rect height=\"326.16\" width=\"446.4\" x=\"43.78125\" y=\"7.2\"/>\n  </clipPath>\n </defs>\n</svg>\n",
      "image/png": "[encoded data removed]"
     },
     "metadata": {
      "needs_background": "light"
     }
    }
   ],
   "source": [
    "import matplotlib.pyplot as plt\n",
    "\n",
    "plt.figure(figsize = (8, 6), dpi = 70)\n",
    "plt.plot(history['loss'])\n",
    "plt.xlabel('epoch')\n",
    "plt.ylabel('loss')\n",
    "plt.show()"
   ]
  },
  {
   "cell_type": "markdown",
   "metadata": {},
   "source": [
    "## Get encoding vector from Normal, Inner_break, Outer_break for training Random Forest\n",
    "1. read facenet model"
   ]
  },
  {
   "cell_type": "code",
   "execution_count": 9,
   "metadata": {},
   "outputs": [
    {
     "output_type": "stream",
     "name": "stdout",
     "text": [
      "----------------------------------\n| The model use Cuda:0 to train. |\n---------------------------------- \n\n"
     ]
    },
    {
     "output_type": "execute_result",
     "data": {
      "text/plain": [
       "BearingNet(\n",
       "  (cnn): Sequential(\n",
       "    (0): Conv2d(1, 20, kernel_size=(5, 5), stride=(1, 1))\n",
       "    (1): ReLU()\n",
       "    (2): MaxPool2d(kernel_size=2, stride=2, padding=0, dilation=1, ceil_mode=False)\n",
       "    (3): Conv2d(20, 16, kernel_size=(4, 4), stride=(1, 1))\n",
       "    (4): ReLU()\n",
       "    (5): MaxPool2d(kernel_size=2, stride=2, padding=0, dilation=1, ceil_mode=False)\n",
       "    (6): Conv2d(16, 16, kernel_size=(3, 3), stride=(1, 1))\n",
       "    (7): ReLU()\n",
       "    (8): Flatten(start_dim=1, end_dim=-1)\n",
       "  )\n",
       "  (fully_connected): Sequential(\n",
       "    (0): BatchNorm1d(144, eps=1e-05, momentum=0.1, affine=True, track_running_stats=True)\n",
       "    (1): Linear(in_features=144, out_features=80, bias=True)\n",
       "    (2): Dropout(p=0.5, inplace=False)\n",
       "    (3): ReLU()\n",
       "    (4): BatchNorm1d(80, eps=1e-05, momentum=0.1, affine=True, track_running_stats=True)\n",
       "    (5): Linear(in_features=80, out_features=40, bias=True)\n",
       "    (6): Dropout(p=0.5, inplace=False)\n",
       "    (7): Sigmoid()\n",
       "  )\n",
       "  (criterion): TripletMarginLoss()\n",
       ")"
      ]
     },
     "metadata": {},
     "execution_count": 9
    }
   ],
   "source": [
    "import torch\n",
    "from project_header import get_pattern\n",
    "\n",
    "# read model\n",
    "model = BearingNet(encode_size=encode_size)\n",
    "model_path = './checkpoint/model_30_0.31.pth'\n",
    "params = torch.load(model_path)\n",
    "model.load_state_dict(params)\n",
    "model.eval()"
   ]
  },
  {
   "source": [
    "2. encode all image by facenet"
   ],
   "cell_type": "markdown",
   "metadata": {}
  },
  {
   "cell_type": "code",
   "execution_count": 10,
   "metadata": {},
   "outputs": [
    {
     "output_type": "stream",
     "name": "stdout",
     "text": [
      "(1071, 40) (1071,)\n"
     ]
    }
   ],
   "source": [
    "from project_header import get_dict\n",
    "\n",
    "train_dict = get_dict(path = './data/Image/train')\n",
    "class_lst = ['Normal', 'Inner_break', 'Outer_break']\n",
    "label_lst = []\n",
    "vec_lst = torch.zeros(1, encode_size)\n",
    "count = 0\n",
    "\n",
    "with torch.no_grad():\n",
    "    for cla in class_lst:\n",
    "        length = train_dict[cla].shape[0]\n",
    "        label_lst += [count for _ in range(length)]\n",
    "        vec = model(train_dict[cla])\n",
    "        vec_lst = torch.cat([vec_lst, vec], dim = 0)\n",
    "        count += 1\n",
    "\n",
    "vec_lst = vec_lst[1:].numpy()\n",
    "label_lst = np.array(label_lst)\n",
    "print(vec_lst.shape, label_lst.shape)"
   ]
  },
  {
   "source": [
    "3. get pattern vector"
   ],
   "cell_type": "markdown",
   "metadata": {}
  },
  {
   "cell_type": "code",
   "execution_count": 11,
   "metadata": {},
   "outputs": [],
   "source": [
    "pattern_vec_dict = get_pattern(model)"
   ]
  },
  {
   "source": [
    "4. save encoding vector and label"
   ],
   "cell_type": "markdown",
   "metadata": {}
  },
  {
   "cell_type": "code",
   "execution_count": 12,
   "metadata": {},
   "outputs": [],
   "source": [
    "path = './data/Vector'\n",
    "np.save(f'{path}/x_train.npy', vec_lst)\n",
    "np.save(f'{path}/y_train.npy', label_lst)"
   ]
  },
  {
   "source": [
    "# Find the best threshold"
   ],
   "cell_type": "markdown",
   "metadata": {}
  },
  {
   "cell_type": "code",
   "execution_count": 39,
   "metadata": {},
   "outputs": [
    {
     "output_type": "stream",
     "name": "stdout",
     "text": [
      "The mean distance between same class is 0.1173\nThe mean distance between different class is 2.7699\n"
     ]
    }
   ],
   "source": [
    "from numpy.random import choice, randint\n",
    "\n",
    "# ------- Fine the mean distance between same class and different class -------\n",
    "# get vector dictionary\n",
    "class_lst = list(train_dict.keys())[:-1]\n",
    "x_train = np.load('./data/Vector/x_train.npy')\n",
    "y_train = np.load('./data/Vector/y_train.npy')\n",
    "\n",
    "vec_dict = dict()\n",
    "for i in range(3):\n",
    "    class_idx = np.where(y_train == i)[0]\n",
    "    vec_dict[class_lst[i]] = x_train[class_idx]\n",
    "\n",
    "# pick n image to test\n",
    "n = 20000\n",
    "same_cnt = 0\n",
    "diff_cnt = 0\n",
    "\n",
    "for i in range(n):\n",
    "    test_class = choice(class_lst, size = 1)[0]\n",
    "    test_idx = randint(len(vec_dict[test_class]))\n",
    "    test_vec = vec_dict[test_class][test_idx]\n",
    "    # print(f'------- Round {i}: test class is {test_class} -------')\n",
    "\n",
    "    for class_name in class_lst:\n",
    "        idx = randint(len(vec_dict[class_name]))\n",
    "        vec = vec_dict[class_name][idx]\n",
    "\n",
    "        dist = np.sqrt(np.sum((vec - test_vec) ** 2).mean())\n",
    "\n",
    "        if class_name == test_class:\n",
    "            same_cnt += dist\n",
    "        else:\n",
    "            diff_cnt += dist\n",
    "        # print(f'Distance({test_class}, {class_name}) = {dist: .4f}')\n",
    "    \n",
    "same_cnt1 = same_cnt / n\n",
    "diff_cnt1 = diff_cnt / (n * 2)\n",
    "print(f'The mean distance between same class is {same_cnt1:.4f}')\n",
    "print(f'The mean distance between different class is {diff_cnt1:.4f}')"
   ]
  },
  {
   "cell_type": "code",
   "execution_count": 41,
   "metadata": {},
   "outputs": [
    {
     "output_type": "stream",
     "name": "stdout",
     "text": [
      "The mean distance between same class is 0.0431\nThe mean distance between different class is 2.7754\n"
     ]
    }
   ],
   "source": [
    "from numpy.random import choice, randint\n",
    "from joblib import load\n",
    "\n",
    "# ------- Find the distance between the test vector and pattern vector -------\n",
    "PatternVector = load('./data/Pattern_Vector/PatternVector.pth')\n",
    "class_lst = list(train_dict.keys())[:-1]\n",
    "x_train = np.load('./data/Vector/x_train.npy')\n",
    "y_train = np.load('./data/Vector/y_train.npy')\n",
    "\n",
    "vec_dict = dict()\n",
    "for i in range(3):\n",
    "    class_idx = np.where(y_train == i)[0]\n",
    "    vec_dict[class_lst[i]] = x_train[class_idx]\n",
    "\n",
    "# pick n image to test\n",
    "n = 20000\n",
    "same_cnt = 0\n",
    "diff_cnt = 0\n",
    "\n",
    "for i in range(n):\n",
    "    test_class = choice(class_lst, size = 1)[0]\n",
    "    test_idx = randint(len(vec_dict[test_class]))\n",
    "    test_vec = vec_dict[test_class][test_idx]\n",
    "    # print(f'------- Round {i}: test class is {test_class} -------')\n",
    "\n",
    "    for class_name in class_lst:\n",
    "        vec = PatternVector[class_name].numpy()\n",
    "\n",
    "        dist = np.sqrt(np.sum((vec - test_vec) ** 2).mean())\n",
    "\n",
    "        if class_name == test_class:\n",
    "            same_cnt += dist\n",
    "        else:\n",
    "            diff_cnt += dist\n",
    "        # print(f'Distance({test_class}, {class_name}) = {dist: .4f}')\n",
    "    \n",
    "same_cnt2 = same_cnt / n\n",
    "diff_cnt2 = diff_cnt / (n * 2)\n",
    "print(f'The mean distance between same class is {same_cnt2:.4f}')\n",
    "print(f'The mean distance between different class is {diff_cnt2:.4f}')\n"
   ]
  },
  {
   "cell_type": "code",
   "execution_count": 42,
   "metadata": {},
   "outputs": [
    {
     "output_type": "stream",
     "name": "stdout",
     "text": [
      "The best threshold is 0.0802\n"
     ]
    }
   ],
   "source": [
    "best = (same_cnt1 + same_cnt2) / 2\n",
    "print(f'The best threshold is {best:.4f}')"
   ]
  },
  {
   "cell_type": "markdown",
   "metadata": {},
   "source": [
    "# Train Randomforest model"
   ]
  },
  {
   "cell_type": "code",
   "execution_count": 24,
   "metadata": {},
   "outputs": [
    {
     "output_type": "stream",
     "name": "stdout",
     "text": [
      "(856, 40) (215, 40) (856,) (215,)\n"
     ]
    }
   ],
   "source": [
    "from sklearn.ensemble import RandomForestClassifier\n",
    "from sklearn.model_selection import train_test_split\n",
    "from sklearn.metrics import classification_report\n",
    "\n",
    "# Read data\n",
    "path = './data/Vector'\n",
    "X = np.load(f'{path}/x_train.npy')\n",
    "Y = np.load(f'{path}/y_train.npy')\n",
    "x_train, x_test, y_train, y_test = train_test_split(X, Y, test_size = 0.2)\n",
    "print(x_train.shape, x_test.shape, y_train.shape, y_test.shape)\n",
    "\n",
    "# Define model\n",
    "RF = RandomForestClassifier(\n",
    "    n_estimators=150, criterion='gini', \n",
    "    max_depth=7, min_samples_split=2, \n",
    "    min_samples_leaf=1, min_weight_fraction_leaf=0.0, \n",
    "    max_features='sqrt', max_leaf_nodes=None, \n",
    "    min_impurity_decrease=0.1, min_impurity_split=None, \n",
    "    bootstrap=True, oob_score=False, \n",
    "    n_jobs=16, random_state=None, \n",
    "    class_weight=None, ccp_alpha=0.0\n",
    ")"
   ]
  },
  {
   "cell_type": "code",
   "execution_count": 25,
   "metadata": {},
   "outputs": [
    {
     "output_type": "execute_result",
     "data": {
      "text/plain": [
       "RandomForestClassifier(max_depth=7, max_features='sqrt',\n",
       "                       min_impurity_decrease=0.1, n_estimators=150, n_jobs=16)"
      ]
     },
     "metadata": {},
     "execution_count": 25
    }
   ],
   "source": [
    "# Training\n",
    "RF.fit(x_train, y_train)"
   ]
  },
  {
   "cell_type": "code",
   "execution_count": 26,
   "metadata": {},
   "outputs": [
    {
     "output_type": "stream",
     "name": "stdout",
     "text": [
      "Training report:\n              precision    recall  f1-score   support\n\n           0       1.00      1.00      1.00       286\n           1       1.00      1.00      1.00       286\n           2       1.00      1.00      1.00       284\n\n    accuracy                           1.00       856\n   macro avg       1.00      1.00      1.00       856\nweighted avg       1.00      1.00      1.00       856\n\n\nTesting report:\n              precision    recall  f1-score   support\n\n           0       1.00      1.00      1.00        69\n           1       1.00      1.00      1.00        73\n           2       1.00      1.00      1.00        73\n\n    accuracy                           1.00       215\n   macro avg       1.00      1.00      1.00       215\nweighted avg       1.00      1.00      1.00       215\n\n"
     ]
    }
   ],
   "source": [
    "# Evaluation\n",
    "pred = RF.predict(x_train)\n",
    "print('Training report:')\n",
    "print(classification_report(y_train, pred))\n",
    "\n",
    "print()\n",
    "\n",
    "pred = RF.predict(x_test)\n",
    "print('Testing report:')\n",
    "print(classification_report(y_test, pred))"
   ]
  },
  {
   "cell_type": "code",
   "execution_count": 27,
   "metadata": {},
   "outputs": [
    {
     "output_type": "execute_result",
     "data": {
      "text/plain": [
       "['./checkpoint/RF.pth']"
      ]
     },
     "metadata": {},
     "execution_count": 27
    }
   ],
   "source": [
    "from joblib import dump\n",
    "\n",
    "dump(RF, './checkpoint/RF.pth')"
   ]
  },
  {
   "cell_type": "code",
   "execution_count": null,
   "metadata": {},
   "outputs": [],
   "source": []
  }
 ],
 "metadata": {
  "interpreter": {
   "hash": "f50bd5474255f82aa829301912ce59e29110123be660cf8d7583f66a20371684"
  },
  "kernelspec": {
   "name": "python3",
   "display_name": "Python 3.8.5 64-bit ('base': conda)"
  },
  "language_info": {
   "codemirror_mode": {
    "name": "ipython",
    "version": 3
   },
   "file_extension": ".py",
   "mimetype": "text/x-python",
   "name": "python",
   "nbconvert_exporter": "python",
   "pygments_lexer": "ipython3",
   "version": "3.8.5"
  },
  "metadata": {
   "interpreter": {
    "hash": "6dd6b3a5cb5089fbdab7c8074cc537dae5a92689b0943c114fcd2222f9191b4f"
   }
  }
 },
 "nbformat": 4,
 "nbformat_minor": 2
}