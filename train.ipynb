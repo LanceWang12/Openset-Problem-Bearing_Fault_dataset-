{
 "cells": [
  {
   "cell_type": "code",
   "execution_count": 8,
   "metadata": {},
   "outputs": [],
   "source": [
    "from dataset import bearing_dataset, read_mat\n",
    "import numpy as np\n",
    "import matplotlib.pyplot as plt\n",
    "import os\n",
    "\n",
    "from torch import nn, optim\n",
    "from torch.utils.data import DataLoader\n",
    "from torch_tool.trainer import TorchModule\n",
    "from torch_tool.callbacks import ModelCheckpoint, EarlyStopping"
   ]
  },
  {
   "cell_type": "markdown",
   "metadata": {},
   "source": [
    "## Read data"
   ]
  },
  {
   "cell_type": "code",
   "execution_count": 2,
   "metadata": {
    "tags": []
   },
   "outputs": [],
   "source": [
    "class_lst = ['Normal', 'Inner_break', 'Outer_break']\n",
    "train = True\n",
    "trainset = bearing_dataset(path = './data/Image/train', class_lst = class_lst, train = train)\n",
    "TrainLoader = DataLoader(trainset, batch_size = 128)\n",
    "\n",
    "valset = bearing_dataset(path = './data/Image/test', class_lst = class_lst, train = train)\n",
    "ValLoader = DataLoader(valset, batch_size = 128)"
   ]
  },
  {
   "cell_type": "code",
   "execution_count": 3,
   "metadata": {},
   "outputs": [
    {
     "name": "stdout",
     "output_type": "stream",
     "text": [
      "Anchor is Normal, and Negative is Outer_break\n"
     ]
    },
    {
     "data": {
      "image/png": "[encoded data removed]",
      "text/plain": [
       "<Figure size 648x216 with 3 Axes>"
      ]
     },
     "metadata": {
      "needs_background": "light"
     },
     "output_type": "display_data"
    }
   ],
   "source": [
    "imgs = trainset[0]\n",
    "print(f'Anchor is {class_lst[imgs[3]]}, and Negative is {class_lst[imgs[4]]}')\n",
    "plt.figure(figsize = (9, 3))\n",
    "for i in range(3):\n",
    "    plt.subplot(1, 3, i + 1)\n",
    "    plt.imshow(imgs[i].reshape(32, 32), cmap = 'gray')\n",
    "    plt.axis('off')\n",
    "# print(anchor.shape, pos.shape, neg.shape)\n",
    "plt.show()"
   ]
  },
  {
   "cell_type": "markdown",
   "metadata": {},
   "source": [
    "## Define encoding model"
   ]
  },
  {
   "cell_type": "code",
   "execution_count": 4,
   "metadata": {},
   "outputs": [],
   "source": [
    "class BearingNet(TorchModule):\n",
    "    def __init__(self, in_channels = 1, encode_size = 128, use_gpu = True, gpu_id = 0):\n",
    "        super().__init__(use_gpu = use_gpu, gpu_id = gpu_id)\n",
    "\n",
    "        self.cnn = nn.Sequential(\n",
    "            nn.Conv2d(in_channels = in_channels, out_channels = 20, kernel_size = 5),\n",
    "            nn.ReLU(),\n",
    "            nn.MaxPool2d(kernel_size = 2),\n",
    "\n",
    "            nn.Conv2d(in_channels = 20, out_channels = 16, kernel_size = 4),\n",
    "            nn.ReLU(),\n",
    "            nn.MaxPool2d(kernel_size = 2),\n",
    "\n",
    "            nn.Conv2d(in_channels = 16, out_channels = 16, kernel_size = 3),\n",
    "            nn.ReLU(),\n",
    "\n",
    "            nn.Flatten()\n",
    "        )\n",
    "\n",
    "        self.fully_connected = nn.Sequential(\n",
    "            nn.BatchNorm1d(144),\n",
    "            nn.Linear(144, 132),\n",
    "            nn.Dropout(0.5),\n",
    "            nn.ReLU(),\n",
    "            nn.BatchNorm1d(132),\n",
    "            nn.Linear(132, encode_size),\n",
    "            nn.Dropout(0.5),\n",
    "            nn.Sigmoid()\n",
    "        )\n",
    "\n",
    "        self.criterion = nn.TripletMarginLoss()\n",
    "\n",
    "    def forward(self, img):\n",
    "        out = self.cnn(img)\n",
    "        out = self.fully_connected(out)\n",
    "\n",
    "        return out\n",
    "\n",
    "    def training_step(self, batch):\n",
    "        anch, pos, neg, _, _ = batch\n",
    "        anch_out = self(anch)\n",
    "        pos_out = self(pos)\n",
    "        neg_out = self(neg)\n",
    "        loss = self.criterion(anch_out, pos_out, neg_out)\n",
    "\n",
    "        return loss\n",
    "\n",
    "    def val_step(self, batch):\n",
    "        anch, pos, neg, _, _ = batch\n",
    "        anch_out = self(anch)\n",
    "        pos_out = self(pos)\n",
    "        neg_out = self(neg)\n",
    "        loss = self.criterion(anch_out, pos_out, neg_out)\n",
    "\n",
    "        return loss\n",
    "\n",
    "    def set_optimizer(self):\n",
    "        optimizer = optim.Adam(\n",
    "            self.parameters(), lr=0.001, \n",
    "            betas=(0.9, 0.999), eps=1e-08, \n",
    "            weight_decay=1e-2, amsgrad=False\n",
    "        )\n",
    "\n",
    "        return optimizer"
   ]
  },
  {
   "cell_type": "code",
   "execution_count": 17,
   "metadata": {},
   "outputs": [
    {
     "name": "stdout",
     "output_type": "stream",
     "text": [
      "----------------------------------\n",
      "| The model use Cuda:0 to train. |\n",
      "---------------------------------- \n",
      "\n"
     ]
    }
   ],
   "source": [
    "model = BearingNet()\n",
    "\n",
    "if not os.path.isdir('./checkpoint'):\n",
    "    os.mkdir('./checkpoint')\n",
    "\n",
    "filepath = './checkpoint/model_{epoch}_{loss:.2f}.pth'\n",
    "\n",
    "ckpt1 = ModelCheckpoint(\n",
    "    filepath = filepath, monitor='loss', verbose=True,\n",
    "    save_best_only=False, mode='auto', period=2\n",
    ")\n",
    "# ckpt2 = EarlyStopping(\n",
    "#     monitor=\"loss\", min_delta=0.001,\n",
    "#     patience=10, verbose=1, mode=\"auto\",\n",
    "#     restore_best_weights=True\n",
    "# )\n",
    "callbacks = [ckpt1]"
   ]
  },
  {
   "cell_type": "code",
   "execution_count": 18,
   "metadata": {},
   "outputs": [
    {
     "name": "stdout",
     "output_type": "stream",
     "text": [
      "Epoch 1/30 :\n",
      "[========================================] 100%\tloss: 0.7569  loss: 0.7569\n",
      "\n",
      "Epoch 00001: saving model to ./checkpoint/model_1_0.76.pth\n",
      "\n",
      "Epoch 2/30 :\n",
      "[========================================] 100%\tloss: 0.4441  loss: 0.4441\n",
      "\n",
      "Epoch 00002: saving model to ./checkpoint/model_2_0.44.pth\n",
      "\n",
      "Epoch 3/30 :\n",
      "[========================================] 100%\tloss: 0.2976  loss: 0.2976\n",
      "\n",
      "Epoch 00003: saving model to ./checkpoint/model_3_0.30.pth\n",
      "\n",
      "Epoch 4/30 :\n",
      "[========================================] 100%\tloss: 0.1703  loss: 0.1703\n",
      "\n",
      "Epoch 00004: saving model to ./checkpoint/model_4_0.17.pth\n",
      "\n",
      "Epoch 5/30 :\n",
      "[========================================] 100%\tloss: 0.0831  loss: 0.0831\n",
      "\n",
      "Epoch 00005: saving model to ./checkpoint/model_5_0.08.pth\n",
      "\n",
      "Epoch 6/30 :\n",
      "[========================================] 100%\tloss: 0.0327  loss: 0.0327\n",
      "\n",
      "Epoch 00006: saving model to ./checkpoint/model_6_0.03.pth\n",
      "\n",
      "Epoch 7/30 :\n",
      "[========================================] 100%\tloss: 0.0211  loss: 0.0211\n",
      "\n",
      "Epoch 00007: saving model to ./checkpoint/model_7_0.02.pth\n",
      "\n",
      "Epoch 8/30 :\n",
      "[========================================] 100%\tloss: 0.0221  loss: 0.0221\n",
      "\n",
      "Epoch 00008: saving model to ./checkpoint/model_8_0.02.pth\n",
      "\n",
      "Epoch 9/30 :\n",
      "[========================================] 100%\tloss: 0.0136  loss: 0.0136\n",
      "\n",
      "Epoch 00009: saving model to ./checkpoint/model_9_0.01.pth\n",
      "\n",
      "Epoch 10/30 :\n",
      "[========================================] 100%\tloss: 0.0197  loss: 0.0197\n",
      "\n",
      "Epoch 00010: saving model to ./checkpoint/model_10_0.02.pth\n",
      "\n",
      "Epoch 11/30 :\n",
      "[========================================] 100%\tloss: 0.0109  loss: 0.0109\n",
      "\n",
      "Epoch 00011: saving model to ./checkpoint/model_11_0.01.pth\n",
      "\n",
      "Epoch 12/30 :\n",
      "[========================================] 100%\tloss: 0.0144  loss: 0.0144\n",
      "\n",
      "Epoch 00012: saving model to ./checkpoint/model_12_0.01.pth\n",
      "\n",
      "Epoch 13/30 :\n",
      "[========================================] 100%\tloss: 0.0179  loss: 0.0179\n",
      "\n",
      "Epoch 00013: saving model to ./checkpoint/model_13_0.02.pth\n",
      "\n",
      "Epoch 14/30 :\n",
      "[========================================] 100%\tloss: 0.0119  loss: 0.0119\n",
      "\n",
      "Epoch 00014: saving model to ./checkpoint/model_14_0.01.pth\n",
      "\n",
      "Epoch 15/30 :\n",
      "[========================================] 100%\tloss: 0.0115  loss: 0.0115\n",
      "\n",
      "Epoch 00015: saving model to ./checkpoint/model_15_0.01.pth\n",
      "\n",
      "Epoch 16/30 :\n",
      "[========================================] 100%\tloss: 0.0140  loss: 0.0140\n",
      "\n",
      "Epoch 00016: saving model to ./checkpoint/model_16_0.01.pth\n",
      "\n",
      "Epoch 17/30 :\n",
      "[========================================] 100%\tloss: 0.0167  loss: 0.0167\n",
      "\n",
      "Epoch 00017: saving model to ./checkpoint/model_17_0.02.pth\n",
      "\n",
      "Epoch 18/30 :\n",
      "[========================================] 100%\tloss: 0.0140  loss: 0.0140\n",
      "\n",
      "Epoch 00018: saving model to ./checkpoint/model_18_0.01.pth\n",
      "\n",
      "Epoch 19/30 :\n",
      "[========================================] 100%\tloss: 0.0162  loss: 0.0162\n",
      "\n",
      "Epoch 00019: saving model to ./checkpoint/model_19_0.02.pth\n",
      "\n",
      "Epoch 20/30 :\n",
      "[========================================] 100%\tloss: 0.0147  loss: 0.0147\n",
      "\n",
      "Epoch 00020: saving model to ./checkpoint/model_20_0.01.pth\n",
      "\n",
      "Epoch 21/30 :\n",
      "[========================================] 100%\tloss: 0.0127  loss: 0.0127\n",
      "\n",
      "Epoch 00021: saving model to ./checkpoint/model_21_0.01.pth\n",
      "\n",
      "Epoch 22/30 :\n",
      "[========================================] 100%\tloss: 0.0252  loss: 0.0252\n",
      "\n",
      "Epoch 00022: saving model to ./checkpoint/model_22_0.03.pth\n",
      "\n",
      "Epoch 23/30 :\n",
      "[========================================] 100%\tloss: 0.0147  loss: 0.0147\n",
      "\n",
      "Epoch 00023: saving model to ./checkpoint/model_23_0.01.pth\n",
      "\n",
      "Epoch 24/30 :\n",
      "[========================================] 100%\tloss: 0.0229  loss: 0.0229\n",
      "\n",
      "Epoch 00024: saving model to ./checkpoint/model_24_0.02.pth\n",
      "\n",
      "Epoch 25/30 :\n",
      "[========================================] 100%\tloss: 0.0164  loss: 0.0164\n",
      "\n",
      "Epoch 00025: saving model to ./checkpoint/model_25_0.02.pth\n",
      "\n",
      "Epoch 26/30 :\n",
      "[========================================] 100%\tloss: 0.0182  loss: 0.0182\n",
      "\n",
      "Epoch 00026: saving model to ./checkpoint/model_26_0.02.pth\n",
      "\n",
      "Epoch 27/30 :\n",
      "[========================================] 100%\tloss: 0.0172  loss: 0.0172\n",
      "\n",
      "Epoch 00027: saving model to ./checkpoint/model_27_0.02.pth\n",
      "\n",
      "Epoch 28/30 :\n",
      "[========================================] 100%\tloss: 0.0200  loss: 0.0200\n",
      "\n",
      "Epoch 00028: saving model to ./checkpoint/model_28_0.02.pth\n",
      "\n",
      "Epoch 29/30 :\n",
      "[========================================] 100%\tloss: 0.0182  loss: 0.0182\n",
      "\n",
      "Epoch 00029: saving model to ./checkpoint/model_29_0.02.pth\n",
      "\n",
      "Epoch 30/30 :\n",
      "[========================================] 100%\tloss: 0.0182  loss: 0.0182\n",
      "\n",
      "Epoch 00030: saving model to ./checkpoint/model_30_0.02.pth\n",
      "\n"
     ]
    }
   ],
   "source": [
    "history = model.fit_dataloader(TrainLoader, epochs = 30, callbacks = callbacks, verbose = True)"
   ]
  },
  {
   "cell_type": "code",
   "execution_count": 19,
   "metadata": {},
   "outputs": [
    {
     "data": {
      "image/png": "[encoded data removed]",
      "text/plain": [
       "<Figure size 560x420 with 1 Axes>"
      ]
     },
     "metadata": {
      "needs_background": "light"
     },
     "output_type": "display_data"
    }
   ],
   "source": [
    "import matplotlib.pyplot as plt\n",
    "\n",
    "plt.figure(figsize = (8, 6), dpi = 70)\n",
    "plt.plot(history['loss'])\n",
    "plt.xlabel('epoch')\n",
    "plt.ylabel('loss')\n",
    "plt.show()"
   ]
  },
  {
   "cell_type": "markdown",
   "metadata": {},
   "source": [
    "## Get encoding vector from Normal, Inner_break, Outer_break"
   ]
  },
  {
   "cell_type": "code",
   "execution_count": 20,
   "metadata": {},
   "outputs": [
    {
     "name": "stdout",
     "output_type": "stream",
     "text": [
      "----------------------------------\n",
      "| The model use Cuda:0 to train. |\n",
      "---------------------------------- \n",
      "\n"
     ]
    }
   ],
   "source": [
    "import torch\n",
    "from dataset import get_pattern\n",
    "model = BearingNet()\n",
    "model_path = './checkpoint/model_23_0.01.pth'\n",
    "params = torch.load(model_path)\n",
    "model.load_state_dict(params)\n",
    "pattern_vec_dict = get_pattern(model)"
   ]
  },
  {
   "cell_type": "code",
   "execution_count": 21,
   "metadata": {},
   "outputs": [
    {
     "name": "stdout",
     "output_type": "stream",
     "text": [
      "(1071, 128) (1071,)\n"
     ]
    }
   ],
   "source": [
    "from dataset import get_dict\n",
    "\n",
    "train_dict = get_dict(path = './data/Image/train')\n",
    "class_lst = ['Normal', 'Inner_break', 'Outer_break']\n",
    "label_lst = []\n",
    "vec_lst = torch.zeros(1, 128)\n",
    "count = 0\n",
    "\n",
    "with torch.no_grad():\n",
    "    for cla in class_lst:\n",
    "        length = train_dict[cla].shape[0]\n",
    "        label_lst += [count for _ in range(length)]\n",
    "        vec = model(train_dict[cla])\n",
    "        vec_lst = torch.cat([vec_lst, vec], dim = 0)\n",
    "        count += 1\n",
    "\n",
    "vec_lst = vec_lst[1:].numpy()\n",
    "label_lst = np.array(label_lst)\n",
    "print(vec_lst.shape, label_lst.shape)"
   ]
  },
  {
   "cell_type": "code",
   "execution_count": 22,
   "metadata": {},
   "outputs": [],
   "source": [
    "path = './data/Vector'\n",
    "np.save(f'{path}/X.npy', vec_lst)\n",
    "np.save(f'{path}/Y.npy', label_lst)"
   ]
  },
  {
   "cell_type": "markdown",
   "metadata": {},
   "source": [
    "# Randomforest model"
   ]
  },
  {
   "cell_type": "code",
   "execution_count": 23,
   "metadata": {},
   "outputs": [
    {
     "name": "stdout",
     "output_type": "stream",
     "text": [
      "(856, 128) (215, 128) (856,) (215,)\n"
     ]
    }
   ],
   "source": [
    "from sklearn.ensemble import RandomForestClassifier\n",
    "from sklearn.model_selection import train_test_split\n",
    "from sklearn.metrics import classification_report\n",
    "\n",
    "# Read data\n",
    "path = './data/Vector'\n",
    "X = np.load(f'{path}/X.npy')\n",
    "Y = np.load(f'{path}/Y.npy')\n",
    "x_train, x_test, y_train, y_test = train_test_split(X, Y, test_size = 0.2)\n",
    "print(x_train.shape, x_test.shape, y_train.shape, y_test.shape)\n",
    "\n",
    "# Define model\n",
    "RF = RandomForestClassifier(\n",
    "    n_estimators=150, criterion='gini', \n",
    "    max_depth=7, min_samples_split=2, \n",
    "    min_samples_leaf=1, min_weight_fraction_leaf=0.0, \n",
    "    max_features='sqrt', max_leaf_nodes=None, \n",
    "    min_impurity_decrease=0.1, min_impurity_split=None, \n",
    "    bootstrap=True, oob_score=False, \n",
    "    n_jobs=16, random_state=None, \n",
    "    class_weight=None, ccp_alpha=0.0\n",
    ")\n",
    "\n",
    "# DL = BearingNet()\n",
    "# DL.load_state_dict('./checkpoint/model_8_0.94.pth')"
   ]
  },
  {
   "cell_type": "code",
   "execution_count": 24,
   "metadata": {},
   "outputs": [
    {
     "data": {
      "text/plain": [
       "RandomForestClassifier(max_depth=7, max_features='sqrt',\n",
       "                       min_impurity_decrease=0.1, n_estimators=150, n_jobs=16)"
      ]
     },
     "execution_count": 24,
     "metadata": {},
     "output_type": "execute_result"
    }
   ],
   "source": [
    "# Training\n",
    "RF.fit(x_train, y_train)"
   ]
  },
  {
   "cell_type": "code",
   "execution_count": 25,
   "metadata": {},
   "outputs": [
    {
     "name": "stdout",
     "output_type": "stream",
     "text": [
      "Training report:\n",
      "              precision    recall  f1-score   support\n",
      "\n",
      "           0       1.00      1.00      1.00       289\n",
      "           1       1.00      1.00      1.00       279\n",
      "           2       1.00      1.00      1.00       288\n",
      "\n",
      "    accuracy                           1.00       856\n",
      "   macro avg       1.00      1.00      1.00       856\n",
      "weighted avg       1.00      1.00      1.00       856\n",
      "\n",
      "\n",
      "Testing report:\n",
      "              precision    recall  f1-score   support\n",
      "\n",
      "           0       1.00      1.00      1.00        66\n",
      "           1       1.00      1.00      1.00        80\n",
      "           2       1.00      1.00      1.00        69\n",
      "\n",
      "    accuracy                           1.00       215\n",
      "   macro avg       1.00      1.00      1.00       215\n",
      "weighted avg       1.00      1.00      1.00       215\n",
      "\n"
     ]
    }
   ],
   "source": [
    "# Evaluation\n",
    "pred = RF.predict(x_train)\n",
    "print('Training report:')\n",
    "print(classification_report(y_train, pred))\n",
    "\n",
    "print()\n",
    "\n",
    "pred = RF.predict(x_test)\n",
    "print('Testing report:')\n",
    "print(classification_report(y_test, pred))"
   ]
  },
  {
   "cell_type": "code",
   "execution_count": 26,
   "metadata": {},
   "outputs": [
    {
     "data": {
      "text/plain": [
       "['./checkpoint/RF_0.87.pth']"
      ]
     },
     "execution_count": 26,
     "metadata": {},
     "output_type": "execute_result"
    }
   ],
   "source": [
    "from joblib import dump\n",
    "\n",
    "dump(RF, './checkpoint/RF_0.87.pth')"
   ]
  },
  {
   "cell_type": "code",
   "execution_count": null,
   "metadata": {},
   "outputs": [],
   "source": []
  }
 ],
 "metadata": {
  "interpreter": {
   "hash": "f50bd5474255f82aa829301912ce59e29110123be660cf8d7583f66a20371684"
  },
  "kernelspec": {
   "display_name": "Python 3",
   "language": "python",
   "name": "python3"
  },
  "language_info": {
   "codemirror_mode": {
    "name": "ipython",
    "version": 3
   },
   "file_extension": ".py",
   "mimetype": "text/x-python",
   "name": "python",
   "nbconvert_exporter": "python",
   "pygments_lexer": "ipython3",
   "version": "3.8.5"
  },
  "metadata": {
   "interpreter": {
    "hash": "6dd6b3a5cb5089fbdab7c8074cc537dae5a92689b0943c114fcd2222f9191b4f"
   }
  }
 },
 "nbformat": 4,
 "nbformat_minor": 2
}
